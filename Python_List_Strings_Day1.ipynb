{
 "cells": [
  {
   "cell_type": "markdown",
   "id": "8436e9fb",
   "metadata": {},
   "source": [
    "# String "
   ]
  },
  {
   "cell_type": "markdown",
   "id": "f384e483",
   "metadata": {},
   "source": [
    "A string is a sequence of characters. Strings are basically just a bunch of words. You will be using strings in almost every Python program that you write, so pay attention to the following part.\n",
    "### Single Quote \n",
    "You can specify strings using single quotes such as 'Quote me on this'. All white space i.e., spaces and tabs, within the quotes, are preserved as-is.\n",
    "### Double Quotes \n",
    "Strings in double quotes work exactly the same way as strings in single quotes. An example is \"What's your name?\".\n",
    "### Triple Quotes \n",
    "You can specify multi-line strings using triple quotes - (\"\"\" or '''). You can use single quotes and double quotes freely within the triple quotes. An example is:\n",
    "'''This is a multi-line string. This is the first line.\n",
    "This is the second line.\n",
    "\"What's your name?\" I asked.\n",
    "He said \"Bond, James Bond.\"\n",
    "'''\n",
    "Strings Are Immutable \n",
    "This means that once you have created a string, you cannot change it. Although this might seem like a bad thing, it really isn't."
   ]
  },
  {
   "cell_type": "code",
   "execution_count": 4,
   "id": "dc4a7e6c",
   "metadata": {},
   "outputs": [
    {
     "name": "stdout",
     "output_type": "stream",
     "text": [
      "hello world\n",
      "5 5\n",
      "11\n",
      "hello world\n"
     ]
    }
   ],
   "source": [
    "h=\"hello\"\n",
    "w= \"world\"\n",
    "print(h,w)\n",
    "print(len(h), len(w))\n",
    "#hw=h+' '+w\n",
    "print(len(hw))\n",
    "print(hw)"
   ]
  },
  {
   "cell_type": "code",
   "execution_count": 5,
   "id": "005eb0fe",
   "metadata": {},
   "outputs": [
    {
     "name": "stdout",
     "output_type": "stream",
     "text": [
      "india has many states\n"
     ]
    }
   ],
   "source": [
    "i=\"india\"\n",
    "print(i+' '+\"has many states\")"
   ]
  },
  {
   "cell_type": "code",
   "execution_count": 6,
   "id": "42085022",
   "metadata": {},
   "outputs": [
    {
     "name": "stdout",
     "output_type": "stream",
     "text": [
      "inkdia\n"
     ]
    }
   ],
   "source": [
    "print(i[0:2]+\"k\"+i[2:])"
   ]
  },
  {
   "cell_type": "code",
   "execution_count": 15,
   "id": "78b3fe27",
   "metadata": {},
   "outputs": [
    {
     "name": "stdout",
     "output_type": "stream",
     "text": [
      "0\n"
     ]
    }
   ],
   "source": [
    "#write the program to find the length of the string refrigirator without using len function\n",
    "def len_string(s1):\n",
    "    x=0\n",
    "    len1 = [x+1 for i in s1] \n",
    "    return x\n",
    "s1=\"refrigirator\"\n",
    "print(len_string(s1))\n"
   ]
  },
  {
   "cell_type": "code",
   "execution_count": 19,
   "id": "71fcb4a2",
   "metadata": {},
   "outputs": [
    {
     "data": {
      "text/plain": [
       "12"
      ]
     },
     "execution_count": 19,
     "metadata": {},
     "output_type": "execute_result"
    }
   ],
   "source": [
    "#finding the length of the string using list comprehension\n",
    "\n",
    "def findLen(string):    \n",
    "    return sum(1 for i in string);\n",
    "findLen(\"refrigirator\")"
   ]
  },
  {
   "cell_type": "code",
   "execution_count": 32,
   "id": "6084080d",
   "metadata": {},
   "outputs": [
    {
     "name": "stdout",
     "output_type": "stream",
     "text": [
      "[10, 20, 30, 40, 50]\n",
      "[10, 15, 20, 30, 40, 50, 60]\n",
      "[60, 50, 40, 30, 20, 15, 10]\n",
      "[50, 40, 20, 15, 10]\n",
      "[]\n"
     ]
    }
   ],
   "source": [
    "#different operations of the list\n",
    "l1=[10,20,30,40,50]\n",
    "print(l1)\n",
    "l1.append(60)\n",
    "l1.insert(1, 15)\n",
    "print(l1)\n",
    "\n",
    "l1.reverse()\n",
    "print(l1)\n",
    "\n",
    "l1.pop(0)\n",
    "l1.remove(30)\n",
    "print(l1)\n",
    "\n",
    "l1.clear()\n",
    "print(l1)\n"
   ]
  },
  {
   "cell_type": "markdown",
   "id": "77bf8ffa",
   "metadata": {},
   "source": [
    "# slicing"
   ]
  },
  {
   "cell_type": "code",
   "execution_count": 48,
   "id": "be867651",
   "metadata": {},
   "outputs": [
    {
     "name": "stdout",
     "output_type": "stream",
     "text": [
      "[0, 1, 2, 3, 4, 5, 6, 7, 8, 9]\n",
      "[0, 1]\n",
      "[2, 3, 4, 5, 6, 7, 8, 9]\n",
      "[0, 1, 2, 3, 4]\n",
      "[3, 4, 5, 6, 7, 8, 9]\n",
      "[3, 4, 5, 6, 7, 8]\n",
      "[0, 1, 2, 3, 4, 5, 6, 7, 8, 9]\n",
      "[0, 2, 4, 6, 8]\n",
      "[]\n",
      "[]\n",
      "[0, 1, 2, 3, 4, 5, 6, 7, 8, 9, [90, 'ghj', 'yat123']]\n"
     ]
    }
   ],
   "source": [
    "#slicing of the list\n",
    "nums=list(range(10))\n",
    "print(nums)\n",
    "print(nums[0:2])\n",
    "print(nums[2:])\n",
    "print(nums[:5])\n",
    "print(nums[-7::1])\n",
    "print(nums[3:9:1])\n",
    "#print(nums[1][-1])\n",
    "print(nums[::])\n",
    "print(nums[::2])\n",
    "print(nums[1:1:1])\n",
    "print(nums[:0:])\n",
    "nums.append([90, \"ghj\",\"yat123\"])\n",
    "print(nums)"
   ]
  },
  {
   "cell_type": "code",
   "execution_count": 62,
   "id": "84a5e129",
   "metadata": {},
   "outputs": [
    {
     "name": "stdout",
     "output_type": "stream",
     "text": [
      "['we', 'work', 'in', 'accenture']\n",
      "4\n",
      "['we', 'work', 'in', 'accenture', 'we work in india']\n",
      "n\n",
      "d\n",
      "['we', 'work', 'in', 'accenture', 'we work in india', ['we', 'work', 'at', 'accenture']]\n"
     ]
    }
   ],
   "source": [
    "#list with strings\n",
    "lst=[\"we\", \"work\", \"in\", \"accenture\"]\n",
    "print(lst)\n",
    "print(len(lst))\n",
    "lst.append(\"we work in india\")\n",
    "print(lst)\n",
    "print(lst[2][1])\n",
    "print(lst[-1][-3])\n",
    "lst1=\"we work at accenture\"\n",
    "lst2 = lst1.split(\" \")\n",
    "lst.append(lst2)\n",
    "print(lst)"
   ]
  },
  {
   "cell_type": "markdown",
   "id": "5b59cc77",
   "metadata": {},
   "source": [
    "## Formating"
   ]
  },
  {
   "cell_type": "code",
   "execution_count": 2,
   "id": "80d70f18",
   "metadata": {},
   "outputs": [
    {
     "name": "stdout",
     "output_type": "stream",
     "text": [
      "Print String in default order: \n",
      "Coders For Life\n",
      "\n",
      "Print String in Positional order: \n",
      "For Coders Life\n",
      "\n",
      "Print String in order of Keywords: \n",
      "Life For Coders\n"
     ]
    }
   ],
   "source": [
    "# Python Program for\n",
    "# Formatting of Strings\n",
    " \n",
    "# Default order\n",
    "String1 = \"{} {} {}\".format('Coders', 'For', 'Life')\n",
    "print(\"Print String in default order: \")\n",
    "print(String1)\n",
    " \n",
    "# Positional Formatting\n",
    "String1 = \"{1} {0} {2}\".format('Coders', 'For', 'Life')\n",
    "print(\"\\nPrint String in Positional order: \")\n",
    "print(String1)\n",
    " \n",
    "# Keyword Formatting\n",
    "String1 = \"{l} {f} {g}\".format(g='Coders', f='For', l='Life')\n",
    "print(\"\\nPrint String in order of Keywords: \")\n",
    "print(String1)"
   ]
  },
  {
   "cell_type": "code",
   "execution_count": 3,
   "id": "2b01779c",
   "metadata": {},
   "outputs": [
    {
     "name": "stdout",
     "output_type": "stream",
     "text": [
      "\n",
      "Binary representation of 16 is \n",
      "10000\n",
      "\n",
      "Exponent representation of 165.6458 is \n",
      "1.656458e+02\n",
      "\n",
      "one-sixth is : \n",
      "0.17\n"
     ]
    }
   ],
   "source": [
    "# Formatting of Integers\n",
    "String1 = \"{0:b}\".format(16)\n",
    "print(\"\\nBinary representation of 16 is \")\n",
    "print(String1)\n",
    " \n",
    "# Formatting of Floats\n",
    "String1 = \"{0:e}\".format(165.6458)\n",
    "print(\"\\nExponent representation of 165.6458 is \")\n",
    "print(String1)\n",
    " \n",
    "# Rounding off Integers\n",
    "String1 = \"{0:.2f}\".format(1/6)\n",
    "print(\"\\none-sixth is : \")\n",
    "print(String1)"
   ]
  },
  {
   "cell_type": "code",
   "execution_count": 4,
   "id": "b9c4a210",
   "metadata": {},
   "outputs": [
    {
     "name": "stdout",
     "output_type": "stream",
     "text": [
      "\n",
      "Left, center and right alignment with Formatting: \n",
      "|Python    |Discussion|     Group|\n",
      "\n",
      "Python Discussion Group was founded in 2022!\n"
     ]
    }
   ],
   "source": [
    "\n",
    "# String alignment\n",
    "String1 = \"|{:<10}|{:^10}|{:>10}|\".format('Python',\n",
    "                                          'Discussion',\n",
    "                                          'Group')\n",
    "print(\"\\nLeft, center and right alignment with Formatting: \")\n",
    "print(String1)\n",
    " \n",
    "# To demonstrate aligning of spaces\n",
    "String1 = \"\\n{0:^16} was founded in {1:<4}!\".format(\"Python Discussion Group\",\n",
    "                                                    2022)\n",
    "print(String1)"
   ]
  },
  {
   "cell_type": "raw",
   "id": "afa4692e",
   "metadata": {},
   "source": [
    "# Python String constants \n",
    "Built-In Function\tDescription\n",
    "string.ascii_letters\tConcatenation of the ascii_lowercase and ascii_uppercase constants.\n",
    "string.ascii_lowercase\tConcatenation of lowercase letters\n",
    "string.ascii_uppercase\tConcatenation of uppercase letters\n",
    "string.digits\tDigit in strings\n",
    "string.hexdigits\tHexadigit in strings\n",
    "string.letters\tconcatenation of the strings lowercase and uppercase\n",
    "string.lowercase\tA string must contain lowercase letters.\n",
    "string.octdigits\tOctadigit in a string\n",
    "string.punctuation\tASCII characters having punctuation characters.\n",
    "string.printable\tString of characters which are printable\n",
    "String.endswith()\tReturns True if a string ends with the given suffix otherwise returns False\n",
    "String.startswith()\tReturns True if a string starts with the given prefix otherwise returns False\n",
    "String.isdigit()\tReturns “True” if all characters in the string are digits, Otherwise, It returns “False”.\n",
    "String.isalpha()\tReturns “True” if all characters in the string are alphabets, Otherwise, It returns “False”.\n",
    "string.isdecimal()\tReturns true if all characters in a string are decimal.\n",
    "str.format()\tone of the string formatting methods in Python3, which allows multiple substitutions and value formatting.\n",
    "String.index\tReturns the position of the first occurrence of substring in a string\n",
    "string.uppercase\tA string must contain uppercase letters.\n",
    "string.whitespace\tA string containing all characters that are considered whitespace.\n",
    "string.swapcase()\tMethod converts all uppercase characters to lowercase and vice versa of the given string, and returns it\n",
    "replace()\treturns a copy of the string where all occurrences of a substring is replaced with another substring."
   ]
  },
  {
   "cell_type": "raw",
   "id": "f66ef170",
   "metadata": {},
   "source": [
    "Deprecated string functions\n",
    "Built-In Function\tDescription\n",
    "string.Isdecimal\tReturns true if all characters in a string are decimal\n",
    "String.Isalnum\tReturns true if all the characters in a given string are alphanumeric.\n",
    "string.Istitle\tReturns True if the string is a title cased string\n",
    "String.partition\tsplits the string at the first occurrence of the separator and returns a tuple.\n",
    "String.Isidentifier\tCheck whether a string is a valid identifier or not.\n",
    "String.len\tReturns the length of the string.\n",
    "String.rindex\tReturns the highest index of the substring inside the string if substring is found.\n",
    "String.Max\tReturns the highest alphabetical character in a string.\n",
    "String.min\tReturns the minimum alphabetical character in a string.\n",
    "String.splitlines\tReturns a list of lines in the string.\n",
    "string.capitalize\tReturn a word with its first character capitalized.\n",
    "string.expandtabs\tExpand tabs in a string replacing them by one or more spaces\n",
    "string.find\tReturn the lowest indexing a sub string.\n",
    "string.rfind\tfind the highest index.\n",
    "string.count\tReturn the number of (non-overlapping) occurrences of substring sub in string\n",
    "string.lower\tReturn a copy of s, but with upper case, letters converted to lower case.\n",
    "string.split\tReturn a list of the words of the string, If the optional second argument sep is absent or None\n",
    "string.rsplit()\tReturn a list of the words of the string s, scanning s from the end.\n",
    "rpartition()\tMethod splits the given string into three parts\n",
    "string.splitfields\tReturn a list of the words of the string when only used with two arguments.\n",
    "string.join\tConcatenate a list or tuple of words with intervening occurrences of sep.\n",
    "string.strip()\tIt returns a copy of the string with both leading and trailing white spaces removed\n",
    "string.lstrip\tReturn a copy of the string with leading white spaces removed.\n",
    "string.rstrip\tReturn a copy of the string with trailing white spaces removed.\n",
    "string.swapcase\tConverts lower case letters to upper case and vice versa.\n",
    "string.translate\tTranslate the characters using table\n",
    "string.upper\tlower case letters converted to upper case.\n",
    "string.ljust\tleft-justify in a field of given width.\n",
    "string.rjust\tRight-justify in a field of given width.\n",
    "string.center()\tCenter-justify in a field of given width.\n",
    "string-zfill\tPad a numeric string on the left with zero digits until the given width is reached.\n",
    "string.replace\tReturn a copy of string s with all occurrences of substring old replaced by new.\n",
    "string.casefold()\tReturns the string in lowercase which can be used for caseless comparisons.\n",
    "string.encode\tEncodes the string into any encoding supported by Python. The default encoding is utf-8.\n",
    "string.maketrans\tReturns a translation table usable for str.translate()"
   ]
  },
  {
   "cell_type": "code",
   "execution_count": null,
   "id": "cf54c23d",
   "metadata": {},
   "outputs": [],
   "source": []
  }
 ],
 "metadata": {
  "kernelspec": {
   "display_name": "Python 3 (ipykernel)",
   "language": "python",
   "name": "python3"
  },
  "language_info": {
   "codemirror_mode": {
    "name": "ipython",
    "version": 3
   },
   "file_extension": ".py",
   "mimetype": "text/x-python",
   "name": "python",
   "nbconvert_exporter": "python",
   "pygments_lexer": "ipython3",
   "version": "3.9.12"
  }
 },
 "nbformat": 4,
 "nbformat_minor": 5
}
