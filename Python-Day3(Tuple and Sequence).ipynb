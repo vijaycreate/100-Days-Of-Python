{
 "cells": [
  {
   "cell_type": "markdown",
   "id": "8acff982",
   "metadata": {},
   "source": [
    "# Tuple"
   ]
  },
  {
   "cell_type": "code",
   "execution_count": 56,
   "id": "0a8e0267",
   "metadata": {},
   "outputs": [
    {
     "name": "stdout",
     "output_type": "stream",
     "text": [
      "(1, 2, 3, 4)\n"
     ]
    }
   ],
   "source": [
    "my_tuple=(1,2,3,4)\n",
    "print(my_tuple)"
   ]
  },
  {
   "cell_type": "code",
   "execution_count": 57,
   "id": "1c56f77f",
   "metadata": {},
   "outputs": [
    {
     "ename": "AttributeError",
     "evalue": "'tuple' object has no attribute 'append'",
     "output_type": "error",
     "traceback": [
      "\u001b[1;31m---------------------------------------------------------------------------\u001b[0m",
      "\u001b[1;31mAttributeError\u001b[0m                            Traceback (most recent call last)",
      "Input \u001b[1;32mIn [57]\u001b[0m, in \u001b[0;36m<cell line: 1>\u001b[1;34m()\u001b[0m\n\u001b[1;32m----> 1\u001b[0m \u001b[43mmy_tuple\u001b[49m\u001b[38;5;241;43m.\u001b[39;49m\u001b[43mappend\u001b[49m(\u001b[38;5;241m4\u001b[39m)\n",
      "\u001b[1;31mAttributeError\u001b[0m: 'tuple' object has no attribute 'append'"
     ]
    }
   ],
   "source": [
    "my_tuple.append(4)"
   ]
  },
  {
   "cell_type": "code",
   "execution_count": 58,
   "id": "3e949a4a",
   "metadata": {},
   "outputs": [
    {
     "name": "stdout",
     "output_type": "stream",
     "text": [
      "Number of animals in the zoo is 3\n",
      "Number of cages in the new zoo is 3\n",
      "All animals in new zoo are ('monkey', 'camel', ('python', 'elephant', 'penguin'))\n",
      "Animals brought from old zoo are ('python', 'elephant', 'penguin')\n",
      "Last animal brought from old zoo is penguin\n",
      "Number of animals in the new zoo is 5\n"
     ]
    }
   ],
   "source": [
    "# I would recommend always using parentheses\n",
    "# to indicate start and end of tuple\n",
    "# even though parentheses are optional.\n",
    "# Explicit is better than implicit.\n",
    "zoo = ('python', 'elephant', 'penguin')\n",
    "print('Number of animals in the zoo is', len(zoo))\n",
    "new_zoo = 'monkey', 'camel', zoo # parentheses not required but are a good idea\n",
    "print('Number of cages in the new zoo is', len(new_zoo))\n",
    "print('All animals in new zoo are', new_zoo)\n",
    "print('Animals brought from old zoo are', new_zoo[2])\n",
    "print('Last animal brought from old zoo is', new_zoo[2][2])\n",
    "print('Number of animals in the new zoo is', \n",
    "    len(new_zoo)-1+len(new_zoo[2]))"
   ]
  },
  {
   "cell_type": "code",
   "execution_count": 1,
   "id": "fdbfd736",
   "metadata": {},
   "outputs": [
    {
     "name": "stdout",
     "output_type": "stream",
     "text": [
      "{'a', 'b', 'c'}\n"
     ]
    }
   ],
   "source": [
    "# typecasting list to set\n",
    "myset = set([\"a\", \"b\", \"c\"])\n",
    "print(myset)"
   ]
  },
  {
   "cell_type": "code",
   "execution_count": 2,
   "id": "874e2eae",
   "metadata": {},
   "outputs": [
    {
     "name": "stdout",
     "output_type": "stream",
     "text": [
      "{'a', 'b', 'yatheesa', 'c'}\n"
     ]
    }
   ],
   "source": [
    "# Adding element to the set\n",
    "myset.add(\"yatheesa\")\n",
    "print(myset)"
   ]
  },
  {
   "cell_type": "code",
   "execution_count": 3,
   "id": "6da74bcd",
   "metadata": {},
   "outputs": [
    {
     "name": "stdout",
     "output_type": "stream",
     "text": [
      "(1, 2, 3, 4)\n"
     ]
    }
   ],
   "source": [
    "my_tuple=(1,2,3,4)\n",
    "print(my_tuple)"
   ]
  },
  {
   "cell_type": "code",
   "execution_count": 4,
   "id": "f4a5698b",
   "metadata": {},
   "outputs": [
    {
     "name": "stdout",
     "output_type": "stream",
     "text": [
      "{1, 2, 3, 4}\n"
     ]
    }
   ],
   "source": [
    "my_newset = set((1,2,3,4))\n",
    "print(my_newset)"
   ]
  },
  {
   "cell_type": "code",
   "execution_count": 5,
   "id": "c6fcc664",
   "metadata": {},
   "outputs": [
    {
     "name": "stdout",
     "output_type": "stream",
     "text": [
      "{1, 2, 3, 4, 'yatheesa'}\n"
     ]
    }
   ],
   "source": [
    "# Adding element to the set\n",
    "my_newset.add(\"yatheesa\")\n",
    "print(my_newset)"
   ]
  },
  {
   "cell_type": "code",
   "execution_count": 9,
   "id": "e0e7e5a2",
   "metadata": {},
   "outputs": [
    {
     "name": "stdout",
     "output_type": "stream",
     "text": [
      "Normal Set\n",
      "{'a', 'b', 'c'}\n",
      "{'a', 'b', 'yatheesa', 'c'}\n",
      "\n",
      "Frozen Set\n",
      "frozenset({'f', 'e', 'g'})\n"
     ]
    },
    {
     "ename": "AttributeError",
     "evalue": "'frozenset' object has no attribute 'add'",
     "output_type": "error",
     "traceback": [
      "\u001b[1;31m---------------------------------------------------------------------------\u001b[0m",
      "\u001b[1;31mAttributeError\u001b[0m                            Traceback (most recent call last)",
      "Input \u001b[1;32mIn [9]\u001b[0m, in \u001b[0;36m<cell line: 20>\u001b[1;34m()\u001b[0m\n\u001b[0;32m     17\u001b[0m \u001b[38;5;28mprint\u001b[39m(frozen_set)\n\u001b[0;32m     19\u001b[0m \u001b[38;5;66;03m# Adding element to the frozen set\u001b[39;00m\n\u001b[1;32m---> 20\u001b[0m \u001b[43mfrozen_set\u001b[49m\u001b[38;5;241;43m.\u001b[39;49m\u001b[43madd\u001b[49m(\u001b[38;5;124m\"\u001b[39m\u001b[38;5;124myatheesa\u001b[39m\u001b[38;5;124m\"\u001b[39m)\n\u001b[0;32m     21\u001b[0m \u001b[38;5;28mprint\u001b[39m(frozen_set)\n",
      "\u001b[1;31mAttributeError\u001b[0m: 'frozenset' object has no attribute 'add'"
     ]
    }
   ],
   "source": [
    "# Python program to demonstrate differences\n",
    "# between normal and frozen set\n",
    "# Same as {\"a\", \"b\",\"c\"}\n",
    "normal_set = set([\"a\", \"b\",\"c\"])\n",
    " \n",
    "print(\"Normal Set\")\n",
    "print(normal_set)\n",
    "\n",
    "# Adding element to the normal set\n",
    "normal_set.add(\"yatheesa\")\n",
    "print(normal_set)\n",
    " \n",
    "# A frozen set\n",
    "frozen_set = frozenset([\"e\", \"f\", \"g\"])\n",
    " \n",
    "print(\"\\nFrozen Set\")\n",
    "print(frozen_set)\n",
    "\n",
    "# Adding element to the frozen set\n",
    "frozen_set.add(\"yatheesa\")\n",
    "print(frozen_set)"
   ]
  },
  {
   "cell_type": "raw",
   "id": "2692377b",
   "metadata": {},
   "source": [
    "In Python, any immutable object (such as an integer, boolean, string, tuple) is hashable, meaning its value does not change during its lifetime. This allows Python to create a unique hash value to identify it, which can be used by dictionaries to track unique keys and sets to track unique values. Is a Python list hashable?"
   ]
  },
  {
   "cell_type": "code",
   "execution_count": 14,
   "id": "6d1d9fab",
   "metadata": {},
   "outputs": [
    {
     "name": "stdout",
     "output_type": "stream",
     "text": [
      "People: {'Archi', 'Idrish', 'Jay'}\n",
      "\n",
      "Set after adding element: {'Archi', 1, 2, 3, 4, 5, ('Daxit', 'Vijay'), 'Idrish', 'Jay'}\n"
     ]
    }
   ],
   "source": [
    "# A Python program to\n",
    "# demonstrate adding elements\n",
    "# in a set\n",
    " \n",
    "# Creating a Set\n",
    "people = {\"Jay\", \"Idrish\", \"Archi\"}\n",
    " \n",
    "print(\"People:\", end = \" \")\n",
    "print(people)\n",
    " \n",
    "# This will add Daxit\n",
    "# in the set\n",
    "people.add((\"Daxit\",\"Vijay\"))\n",
    " \n",
    "# Adding elements to the\n",
    "# set using iterator\n",
    "for i in range(1, 6):\n",
    "    people.add(i)\n",
    " \n",
    "print(\"\\nSet after adding element:\", end = \" \")\n",
    "print(people)"
   ]
  },
  {
   "cell_type": "code",
   "execution_count": 36,
   "id": "3c9ab38c",
   "metadata": {},
   "outputs": [
    {
     "data": {
      "text/plain": [
       "{4, 5}"
      ]
     },
     "execution_count": 36,
     "metadata": {},
     "output_type": "execute_result"
    }
   ],
   "source": [
    "a = {4,5}\n",
    "b = {1,2,3,4,5}\n",
    "a.issubset(b)\n",
    "b.issubset(a)\n",
    "a>=b\n",
    "b>=a\n",
    "a.issubset(a)\n",
    "5 in a\n",
    "4 in b\n",
    "a.union(b)\n",
    "a.intersection_update(b)\n",
    "a"
   ]
  },
  {
   "cell_type": "code",
   "execution_count": 28,
   "id": "aeba037b",
   "metadata": {},
   "outputs": [
    {
     "data": {
      "text/plain": [
       "True"
      ]
     },
     "execution_count": 28,
     "metadata": {},
     "output_type": "execute_result"
    }
   ],
   "source": [
    "{4,5} == {4,5}"
   ]
  },
  {
   "cell_type": "code",
   "execution_count": 40,
   "id": "ffaf1b2d",
   "metadata": {},
   "outputs": [
    {
     "name": "stdout",
     "output_type": "stream",
     "text": [
      "Set1 =  {1, 2, 3, 4, 5}\n",
      "Set2 =  {3, 4, 5, 6, 7}\n",
      "\n",
      "\n",
      "Union of Set1 & Set2: Set3 =  {1, 2, 3, 4, 5, 6, 7}\n",
      "Intersection of Set1 & Set2: Set4 =  {3, 4, 5}\n",
      "\n",
      "\n",
      "Set3 is superset of Set4\n",
      "Set4 is subset of Set3\n",
      "\n",
      "\n",
      "Elements in Set3 and not in Set4: Set5 =  {1, 2, 6, 7}\n",
      "\n",
      "\n",
      "Set4 and Set5 have nothing in common\n",
      "\n",
      "After applying clear on sets Set5: \n",
      "Set5 =  set()\n"
     ]
    }
   ],
   "source": [
    "\n",
    "# Python program to demonstrate working# of\n",
    "# Set in Python\n",
    " \n",
    "# Creating two sets\n",
    "set1 = set()\n",
    "set2 = set()\n",
    " \n",
    "# Adding elements to set1\n",
    "for i in range(1, 6):\n",
    "    set1.add(i)\n",
    " \n",
    "# Adding elements to set2\n",
    "for i in range(3, 8):\n",
    "    set2.add(i)\n",
    " \n",
    "print(\"Set1 = \", set1)\n",
    "print(\"Set2 = \", set2)\n",
    "print(\"\\n\")\n",
    " \n",
    "# Union of set1 and set2\n",
    "set3 = set1 | set2# set1.union(set2)\n",
    "print(\"Union of Set1 & Set2: Set3 = \", set3)\n",
    " \n",
    "# Intersection of set1 and set2\n",
    "set4 = set1 & set2# set1.intersection(set2)\n",
    "print(\"Intersection of Set1 & Set2: Set4 = \", set4)\n",
    "print(\"\\n\")\n",
    " \n",
    "# Checking relation between set3 and set4\n",
    "if set3 > set4: # set3.issuperset(set4)\n",
    "    print(\"Set3 is superset of Set4\")\n",
    "elif set3 < set4: # set3.issubset(set4)\n",
    "    print(\"Set3 is subset of Set4\")\n",
    "else : # set3 == set4\n",
    "    print(\"Set3 is same as Set4\")\n",
    " \n",
    "# displaying relation between set4 and set3\n",
    "if set4 < set3: # set4.issubset(set3)\n",
    "    print(\"Set4 is subset of Set3\")\n",
    "    print(\"\\n\")\n",
    " \n",
    "# difference between set3 and set4\n",
    "set5 = set3 - set4\n",
    "print(\"Elements in Set3 and not in Set4: Set5 = \", set5)\n",
    "print(\"\\n\")\n",
    " \n",
    "# check if set4 and set5 are disjoint sets\n",
    "if set4.isdisjoint(set5):\n",
    "    print(\"Set4 and Set5 have nothing in common\\n\")\n",
    " \n",
    "# Removing all the values of set5\n",
    "set5.clear()\n",
    " \n",
    "print(\"After applying clear on sets Set5: \")\n",
    "print(\"Set5 = \", set5)"
   ]
  },
  {
   "cell_type": "raw",
   "id": "b0fbb336",
   "metadata": {},
   "source": [
    "Can a set be accessed by index?\n",
    "No. Trying to access a set by index will throw an error."
   ]
  },
  {
   "cell_type": "code",
   "execution_count": 44,
   "id": "77005ef9",
   "metadata": {},
   "outputs": [
    {
     "name": "stdout",
     "output_type": "stream",
     "text": [
      "Initial empty Tuple: \n",
      "()\n",
      "\n",
      "Tuple with the use of String: \n",
      "('Geeks', 'For', 'Love')\n",
      "\n",
      "Tuple using List: \n",
      "(1, 2, 4, 5, 6)\n",
      "\n",
      "list using Tuple: \n",
      "[1, 2, 4, 5, 6]\n"
     ]
    }
   ],
   "source": [
    "# Creating an empty Tuple\n",
    "Tuple1 = ()\n",
    "print(\"Initial empty Tuple: \")\n",
    "print(Tuple1)\n",
    "\n",
    "# Creating a Tuple\n",
    "# with the use of string\n",
    "Tuple1 = ('Geeks', 'For', 'Love')\n",
    "print(\"\\nTuple with the use of String: \")\n",
    "print(Tuple1)\n",
    "\n",
    "# Creating a Tuple with\n",
    "# the use of list\n",
    "list1 = [1, 2, 4, 5, 6]\n",
    "print(\"\\nTuple using List: \")\n",
    "print(tuple(list1))\n",
    "\n",
    "# Creating a List with\n",
    "# the use of tuple\n",
    "tuple1 = (1, 2, 4, 5, 6)\n",
    "print(\"\\nlist using Tuple: \")\n",
    "print(list(tuple1))"
   ]
  },
  {
   "cell_type": "code",
   "execution_count": 45,
   "id": "b1ee9067",
   "metadata": {},
   "outputs": [
    {
     "name": "stdout",
     "output_type": "stream",
     "text": [
      "\n",
      "Tuple with Mixed Datatypes: \n",
      "(5, 'Welcome', 7, 'toclub')\n"
     ]
    }
   ],
   "source": [
    "\n",
    "# Creating a Tuple\n",
    "# with Mixed Datatype\n",
    "Tuple1 = (5, 'Welcome', 7, 'toclub')\n",
    "print(\"\\nTuple with Mixed Datatypes: \")\n",
    "print(Tuple1)"
   ]
  },
  {
   "cell_type": "code",
   "execution_count": 48,
   "id": "21669ce6",
   "metadata": {},
   "outputs": [
    {
     "name": "stdout",
     "output_type": "stream",
     "text": [
      "\n",
      "Tuple with nested tuples: \n",
      "((0, 1, 2, 3), ('python', 'geek'))\n"
     ]
    }
   ],
   "source": [
    "# Creating a Tuple\n",
    "# with nested tuples\n",
    "Tuple1 = (0, 1, 2, 3)\n",
    "Tuple2 = ('python', 'geek')\n",
    "Tuple3 = (Tuple1, Tuple2)\n",
    "print(\"\\nTuple with nested tuples: \")\n",
    "print(Tuple3)\n"
   ]
  },
  {
   "cell_type": "code",
   "execution_count": 49,
   "id": "b284e5b1",
   "metadata": {},
   "outputs": [
    {
     "name": "stdout",
     "output_type": "stream",
     "text": [
      "\n",
      "Tuple with repetition: \n",
      "('Greatness comes with practise', 'Greatness comes with practise', 'Greatness comes with practise')\n"
     ]
    }
   ],
   "source": [
    "# Creating a Tuple\n",
    "# with repetition\n",
    "Tuple1 = ('Greatness comes with practise',) * 3\n",
    "print(\"\\nTuple with repetition: \")\n",
    "print(Tuple1)\n",
    " "
   ]
  },
  {
   "cell_type": "code",
   "execution_count": 51,
   "id": "24bf6b23",
   "metadata": {},
   "outputs": [
    {
     "name": "stdout",
     "output_type": "stream",
     "text": [
      "\n",
      "Tuple with a loop\n",
      "Greatness comes with practise\n",
      "Greatness comes with practise\n",
      "Greatness comes with practise\n",
      "Greatness comes with practise\n",
      "Greatness comes with practise\n"
     ]
    }
   ],
   "source": [
    "# Creating a Tuple\n",
    "# with the use of loop\n",
    "Tuple1 = ('Greatness comes with practise')\n",
    "n = 5\n",
    "print(\"\\nTuple with a loop\")\n",
    "for i in range(int(n)):\n",
    "    Tuple1 = (Tuple1)\n",
    "    print(Tuple1)"
   ]
  },
  {
   "cell_type": "code",
   "execution_count": 53,
   "id": "528cce2d",
   "metadata": {},
   "outputs": [
    {
     "name": "stdout",
     "output_type": "stream",
     "text": [
      "\n",
      "First element of Tuple: \n",
      "G\n"
     ]
    }
   ],
   "source": [
    "# Accessing Tuple\n",
    "# with Indexing\n",
    "Tuple1 = tuple(\"Geeks\")\n",
    "print(\"\\nFirst element of Tuple: \")\n",
    "print(Tuple1[0])"
   ]
  },
  {
   "cell_type": "code",
   "execution_count": 55,
   "id": "1ec28da9",
   "metadata": {},
   "outputs": [
    {
     "name": "stdout",
     "output_type": "stream",
     "text": [
      "\n",
      "Values after unpacking: \n",
      "Geeks\n",
      "For\n",
      "Geeks\n"
     ]
    }
   ],
   "source": [
    "# Tuple unpacking\n",
    "Tuple1 = (\"Geeks\", \"For\", \"Geeks\")\n",
    "\n",
    "# This line unpack\n",
    "# values of Tuple1\n",
    "a, b, c = Tuple1\n",
    "print(\"\\nValues after unpacking: \")\n",
    "print(a)\n",
    "print(b)\n",
    "print(c)"
   ]
  },
  {
   "cell_type": "markdown",
   "id": "e88e549f",
   "metadata": {},
   "source": [
    "# Sequence"
   ]
  },
  {
   "cell_type": "code",
   "execution_count": 59,
   "id": "cee69256",
   "metadata": {},
   "outputs": [
    {
     "name": "stdout",
     "output_type": "stream",
     "text": [
      "Item 0 is apple\n",
      "Item 1 is mango\n",
      "Item 2 is carrot\n",
      "Item 3 is banana\n",
      "Item -1 is banana\n",
      "Item -2 is carrot\n",
      "Character 0 is s\n",
      "Item 1 to 3 is ['mango', 'carrot']\n",
      "Item 2 to end is ['carrot', 'banana']\n",
      "Item 1 to -1 is ['mango', 'carrot']\n",
      "Item start to end is ['apple', 'mango', 'carrot', 'banana']\n",
      "characters 1 to 3 is wa\n",
      "characters 2 to end is aroop\n",
      "characters 1 to -1 is waroo\n",
      "characters start to end is swaroop\n"
     ]
    }
   ],
   "source": [
    "shoplist = ['apple', 'mango', 'carrot', 'banana']\n",
    "name = 'swaroop'\n",
    "# Indexing or 'Subscription' operation #\n",
    "print('Item 0 is', shoplist[0])\n",
    "print('Item 1 is', shoplist[1])\n",
    "print('Item 2 is', shoplist[2])\n",
    "print('Item 3 is', shoplist[3])\n",
    "print('Item -1 is', shoplist[-1])\n",
    "print('Item -2 is', shoplist[-2])\n",
    "print('Character 0 is', name[0])\n",
    "# Slicing on a list #\n",
    "print('Item 1 to 3 is', shoplist[1:3])\n",
    "print('Item 2 to end is', shoplist[2:])\n",
    "print('Item 1 to -1 is', shoplist[1:-1])\n",
    "print('Item start to end is', shoplist[:])\n",
    "# Slicing on a string #\n",
    "print('characters 1 to 3 is', name[1:3])\n",
    "print('characters 2 to end is', name[2:])\n",
    "print('characters 1 to -1 is', name[1:-1])\n",
    "print('characters start to end is', name[:])"
   ]
  },
  {
   "cell_type": "code",
   "execution_count": null,
   "id": "15860863",
   "metadata": {},
   "outputs": [],
   "source": []
  }
 ],
 "metadata": {
  "kernelspec": {
   "display_name": "Python 3 (ipykernel)",
   "language": "python",
   "name": "python3"
  },
  "language_info": {
   "codemirror_mode": {
    "name": "ipython",
    "version": 3
   },
   "file_extension": ".py",
   "mimetype": "text/x-python",
   "name": "python",
   "nbconvert_exporter": "python",
   "pygments_lexer": "ipython3",
   "version": "3.9.12"
  }
 },
 "nbformat": 4,
 "nbformat_minor": 5
}
