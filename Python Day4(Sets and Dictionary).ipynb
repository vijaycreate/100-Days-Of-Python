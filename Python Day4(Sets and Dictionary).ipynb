{
 "cells": [
  {
   "cell_type": "markdown",
   "id": "065bce70",
   "metadata": {},
   "source": [
    "# Set"
   ]
  },
  {
   "cell_type": "markdown",
   "id": "12c1f68d",
   "metadata": {},
   "source": [
    "Sets are unordered collections of simple objects. These are used when the existence of an object in a collection is more important than the order or how many times it occurs.\n",
    "Using sets, you can test for membership, whether it is a subset of another set, find the intersection between two sets, and so on.\n"
   ]
  },
  {
   "cell_type": "code",
   "execution_count": 35,
   "id": "7dd3ac2d",
   "metadata": {},
   "outputs": [
    {
     "name": "stdout",
     "output_type": "stream",
     "text": [
      "{'c', 'b', 'a'}\n"
     ]
    }
   ],
   "source": [
    "# typecasting list to set\n",
    "myset = set([\"a\", \"b\", \"c\"])\n",
    "print(myset)"
   ]
  },
  {
   "cell_type": "code",
   "execution_count": 5,
   "id": "b3ed7ddf",
   "metadata": {},
   "outputs": [
    {
     "name": "stdout",
     "output_type": "stream",
     "text": [
      "{1, 2, 3, 4}\n"
     ]
    },
    {
     "data": {
      "text/plain": [
       "4"
      ]
     },
     "execution_count": 5,
     "metadata": {},
     "output_type": "execute_result"
    }
   ],
   "source": [
    "my_set={1,2,3,4}\n",
    "print(my_set)\n",
    "len(my_set)"
   ]
  },
  {
   "cell_type": "code",
   "execution_count": 7,
   "id": "c7fd7c14",
   "metadata": {},
   "outputs": [
    {
     "name": "stdout",
     "output_type": "stream",
     "text": [
      "{'Great', 'is', 'Virat'}\n"
     ]
    },
    {
     "data": {
      "text/plain": [
       "3"
      ]
     },
     "execution_count": 7,
     "metadata": {},
     "output_type": "execute_result"
    }
   ],
   "source": [
    "my_set={'Virat','is','Great'}\n",
    "print(my_set)\n",
    "len(my_set)"
   ]
  },
  {
   "cell_type": "code",
   "execution_count": 13,
   "id": "d5b8aaf6",
   "metadata": {},
   "outputs": [
    {
     "data": {
      "text/plain": [
       "True"
      ]
     },
     "execution_count": 13,
     "metadata": {},
     "output_type": "execute_result"
    }
   ],
   "source": [
    "{1,2,3,4}=={1,3,2,4}"
   ]
  },
  {
   "cell_type": "code",
   "execution_count": 15,
   "id": "035bae1f",
   "metadata": {},
   "outputs": [
    {
     "name": "stdout",
     "output_type": "stream",
     "text": [
      "{2, 3, 4, 5, 6}\n"
     ]
    }
   ],
   "source": [
    "my_set={2,2,3,4,5,4,6}\n",
    "len(my_set)\n",
    "print(my_set)"
   ]
  },
  {
   "cell_type": "code",
   "execution_count": 1,
   "id": "ea82dfe0",
   "metadata": {},
   "outputs": [
    {
     "name": "stdout",
     "output_type": "stream",
     "text": [
      "Normal Set\n",
      "{'c', 'b', 'a'}\n",
      "\n",
      "Frozen Set\n",
      "frozenset({'g', 'f', 'e'})\n"
     ]
    }
   ],
   "source": [
    "# Python program to demonstrate differences\n",
    "# between normal and frozen set\n",
    " \n",
    "# Same as {\"a\", \"b\",\"c\"}\n",
    "normal_set = set([\"a\", \"b\",\"c\"])\n",
    " \n",
    "print(\"Normal Set\")\n",
    "print(normal_set)\n",
    " \n",
    "# A frozen set\n",
    "frozen_set = frozenset([\"e\", \"f\", \"g\"])\n",
    " \n",
    "print(\"\\nFrozen Set\")\n",
    "print(frozen_set)"
   ]
  },
  {
   "cell_type": "code",
   "execution_count": 2,
   "id": "56ec6dfe",
   "metadata": {},
   "outputs": [
    {
     "name": "stdout",
     "output_type": "stream",
     "text": [
      "People: {'Jay', 'Idrish', 'Archi'}\n",
      "\n",
      "Set after adding element: \n",
      "Set after adding element: \n",
      "Set after adding element: \n",
      "Set after adding element: \n",
      "Set after adding element: {1, 2, 3, 4, 5, 'Archi', 'Idrish', 'Daxit', 'Jay'}\n"
     ]
    }
   ],
   "source": [
    "# Creating a Set\n",
    "people = {\"Jay\", \"Idrish\", \"Archi\"}\n",
    " \n",
    "print(\"People:\", end = \" \")\n",
    "print(people)\n",
    " \n",
    "# This will add Daxit\n",
    "# in the set\n",
    "people.add(\"Daxit\")\n",
    " \n",
    "# Adding elements to the\n",
    "# set using iterator\n",
    "for i in range(1, 6):\n",
    "    people.add(i)\n",
    "    \n",
    " \n",
    "    print(\"\\nSet after adding element:\", end = \" \")\n",
    "print(people)"
   ]
  },
  {
   "cell_type": "code",
   "execution_count": 3,
   "id": "1a8a6885",
   "metadata": {},
   "outputs": [
    {
     "name": "stdout",
     "output_type": "stream",
     "text": [
      "Union using union() function\n",
      "{'Karan', 'Archil', 'Jay', 'Idrish', 'Arjun'}\n",
      "\n",
      "Union using '|' operator\n",
      "{'Deepanshu', 'Archil', 'Jay', 'Idrish', 'Raju'}\n"
     ]
    }
   ],
   "source": [
    "# Python Program to\n",
    "# demonstrate union of\n",
    "# two sets\n",
    " \n",
    "people = {\"Jay\", \"Idrish\", \"Archil\"}\n",
    "vampires = {\"Karan\", \"Arjun\"}\n",
    "dracula = {\"Deepanshu\", \"Raju\"}\n",
    " \n",
    "# Union using union()\n",
    "# function\n",
    "population = people.union(vampires)\n",
    " \n",
    "print(\"Union using union() function\")\n",
    "print(population)\n",
    " \n",
    "# Union using \"|\"\n",
    "# operator\n",
    "population = people|dracula\n",
    " \n",
    "print(\"\\nUnion using '|' operator\")\n",
    "print(population)"
   ]
  },
  {
   "cell_type": "markdown",
   "id": "efb9dff9",
   "metadata": {},
   "source": [
    "### Intersection operation on Python Sets"
   ]
  },
  {
   "cell_type": "code",
   "execution_count": 7,
   "id": "f439f390",
   "metadata": {},
   "outputs": [
    {
     "name": "stdout",
     "output_type": "stream",
     "text": [
      "Intersection using intersection() function\n",
      "{3, 4, 5, 6, 7, 8, 9, 10, 11}\n",
      "\n",
      "Intersection using '&' operator\n",
      "{3, 4, 5, 6, 7, 8, 9, 10, 11}\n"
     ]
    }
   ],
   "source": [
    "# Python program to\n",
    "# demonstrate intersection\n",
    "# of two sets\n",
    " \n",
    "set1 = set()\n",
    "set2 = set()\n",
    " \n",
    "for i in range(15):\n",
    "    set1.add(i)\n",
    " \n",
    "for i in range(3,12):\n",
    "    set2.add(i)\n",
    "# Intersection using\n",
    "# intersection() function\n",
    "set3 = set1.intersection(set2)\n",
    " \n",
    "print(\"Intersection using intersection() function\")\n",
    "print(set3)\n",
    "\n",
    "# Intersection using\n",
    "# \"&\" operator\n",
    "set3 = set1 & set2\n",
    " \n",
    "print(\"\\nIntersection using '&' operator\")\n",
    "print(set3)"
   ]
  },
  {
   "cell_type": "code",
   "execution_count": 11,
   "id": "0d5e8d8c",
   "metadata": {},
   "outputs": [
    {
     "name": "stdout",
     "output_type": "stream",
     "text": [
      "{0, 1, 2, 3, 4, 5, 6, 7, 8}\n"
     ]
    }
   ],
   "source": [
    "# Python program to demonstrate difference between two sets\n",
    "set1 = set()\n",
    "set2 = set()\n",
    "for i in range(5):\n",
    "    set1.add(i)\n",
    "for i in range(3,9):\n",
    "    set1.add(i)\n",
    "#Difference using difference function\n",
    "set3=set1.difference(set2)\n",
    "print(set3)"
   ]
  },
  {
   "cell_type": "code",
   "execution_count": 12,
   "id": "e3a35ece",
   "metadata": {},
   "outputs": [
    {
     "name": "stdout",
     "output_type": "stream",
     "text": [
      "\n",
      "Difference of two sets using '-' operator\n",
      "{0, 1, 2, 3, 4, 5, 6, 7, 8}\n"
     ]
    }
   ],
   "source": [
    "# Difference of two sets\n",
    "# using '-' operator\n",
    "set3 = set1 - set2\n",
    " \n",
    "print(\"\\nDifference of two sets using '-' operator\")\n",
    "print(set3)"
   ]
  },
  {
   "cell_type": "code",
   "execution_count": 14,
   "id": "17b0f4ed",
   "metadata": {},
   "outputs": [
    {
     "name": "stdout",
     "output_type": "stream",
     "text": [
      "Initial set\n",
      "{1, 2, 3, 7, 8, 9, 56, 445}\n",
      "None\n"
     ]
    }
   ],
   "source": [
    "set1={1,2,3,445,56,7,7,8,9}\n",
    "print(\"Initial set\")\n",
    "print(set1)\n",
    "\n",
    "#Removing all elements using clear function \n",
    "set3=set1.clear()\n",
    "print(set3)"
   ]
  },
  {
   "cell_type": "code",
   "execution_count": 25,
   "id": "05ca5558",
   "metadata": {},
   "outputs": [
    {
     "name": "stdout",
     "output_type": "stream",
     "text": [
      "{1, 2, 3, 4, 5, 6, 7, 8}\n",
      "{3, 4, 5}\n",
      "set3 is superset of set4\n",
      "set4 is subset of set3\n",
      "{1, 2, 6, 7, 8}\n",
      "set4 and set5 have nothing in common\n",
      "set()\n"
     ]
    }
   ],
   "source": [
    "set1=set()\n",
    "set2=set()\n",
    "\n",
    "for i in range(1,6):\n",
    "    set1.add(i)\n",
    "\n",
    "for i in range(3,9):\n",
    "    set2.add(i)\n",
    "\n",
    "# Union of two sets\n",
    "set3= set1 | set2\n",
    "print(set3)\n",
    "\n",
    "# Intersection of two sets\n",
    "set4= set1 & set2\n",
    "print(set4)\n",
    "\n",
    "if set3>set4:\n",
    "    print(\"set3 is superset of set4\")\n",
    "elif set3<set4:\n",
    "    print(\"set3 is subset of set4\")\n",
    "elif set3==set4:\n",
    "    print(\"set3 is equal to set4\")\n",
    "    \n",
    "if set4<set3:\n",
    "    print(\"set4 is subset of set3\")\n",
    "    \n",
    "#Difference between set3 and set4\n",
    "set5=set3-set4\n",
    "print(set5)\n",
    "\n",
    "if set4.isdisjoint(set5):\n",
    "    print(\"set4 and set5 have nothing in common\")\n",
    "set5.clear()\n",
    "print(set5)"
   ]
  },
  {
   "cell_type": "markdown",
   "id": "3dbfc0a5",
   "metadata": {},
   "source": [
    "# Dictionary"
   ]
  },
  {
   "cell_type": "markdown",
   "id": "c2ab46aa",
   "metadata": {},
   "source": [
    "Dictionary\n",
    "A dictionary is like an address-book where you can find the address or contact details of a person by knowing only his/her name\n",
    "i.e. we associate keys (name) with values (details). Note that the key must be unique just like you cannot find out the correct\n",
    "information if you have two persons with the exact same name.\n",
    "Note that you can use only immutable objects (like strings) for the keys of a dictionary but you can use either immutable or\n",
    "mutable objects for the values of the dictionary. This basically translates to say that you should use only simple objects for keys.\n",
    "Data Structures\n",
    "\n",
    "Pairs of keys and values are specified in a dictionary by using the notation d = {key1 : value1, key2 : value2 } . Notice that\n",
    "the key-value pairs are separated by a colon and the pairs are separated themselves by commas and all this is enclosed in a pair of\n",
    "curly braces.\n"
   ]
  },
  {
   "cell_type": "code",
   "execution_count": 27,
   "id": "24c17735",
   "metadata": {},
   "outputs": [
    {
     "name": "stdout",
     "output_type": "stream",
     "text": [
      "{1: 'We', 2: 'are', 3: 'Coder'}\n"
     ]
    }
   ],
   "source": [
    "Dict={1:'We',2:'are',3:'Coder'}\n",
    "print(Dict)"
   ]
  },
  {
   "cell_type": "code",
   "execution_count": 28,
   "id": "8ece2df1",
   "metadata": {},
   "outputs": [
    {
     "name": "stdout",
     "output_type": "stream",
     "text": [
      "{1: 'python', 2: 'is', 3: 'an', 4: 'interactive', 5: 'language'}\n",
      "{1: 'python', 2: 'is', 3: 'an', 4: 'interactive', 5: 'language', 6: {1: 'most', 2: 'of', 3: 'the', 4: 'engineers', 5: 'are', 6: 'DS'}}\n",
      "python\n",
      "engineers\n",
      "{1: 'python', 2: 'is', 3: 'an', 4: 'interactive', 5: 'language', 6: {1: 'most', 2: 'of', 3: 'the', 4: 'engineers', 5: 'are', 6: 'DS'}, 7: 'yatheesha', 8: 'is', 9: 'an', 10: 'AI/ML', 11: 'Resource'}\n",
      "dict_values(['python', 'is', 'an', 'interactive', 'language', {1: 'most', 2: 'of', 3: 'the', 4: 'engineers', 5: 'are', 6: 'DS'}, 'yatheesha', 'is', 'an', 'AI/ML', 'Resource'])\n",
      "Resource\n",
      "dict_keys([1, 2, 3, 4, 5, 6, 7, 8, 9, 10, 11])\n",
      "an\n",
      "(11, 'Resource')\n"
     ]
    }
   ],
   "source": [
    "#creating dictionary\n",
    "dict_1={1:\"python\", 2:\"is\", 3:\"an\", 4:\"interactive\", 5:\"language\"}\n",
    "print(dict_1)\n",
    "#adding dictionary to the dictionary\n",
    "dict_1[6] = {1:\"most\", 2:\"of\",3:\"the\", 4:\"engineers\", 5:\"are\", 6:\"DS\"}\n",
    "print(dict_1)\n",
    "print(dict_1[1])    #accessing using key value\n",
    "#accessing the nested dictionary\n",
    "print(dict_1[6][4])   \n",
    "dict_1.update({7:\"yatheesha\", 8:\"is\", 9:\"an\", 10:\"AI/ML\", 11:\"Resource\"}) #updating he dictionary with another dictionary\n",
    "print(dict_1)\n",
    "print(dict_1.values())   #accessing all values of a dictionary\n",
    "print(dict_1.get(11))    #to get the element at particular key\n",
    "print(dict_1.keys())     # to get all the keys\n",
    "print(dict_1.pop(3))     #To pop particular key value pair\n",
    "print(dict_1.popitem())   #To pop the last added key value pair"
   ]
  },
  {
   "cell_type": "code",
   "execution_count": 30,
   "id": "1edb1c1e",
   "metadata": {},
   "outputs": [
    {
     "name": "stdout",
     "output_type": "stream",
     "text": [
      "{'milk': 2, 'bread': 3, 'butter': 2, 'beer': 1, 'diapers': 1}\n"
     ]
    }
   ],
   "source": [
    "data = {'customer1': ['milk', 'bread'],\n",
    " 'customer2': ['butter'],\n",
    " 'customer3': ['beer', 'diapers'],\n",
    " 'customer4': ['milk', 'bread', 'butter'],\n",
    " 'customer5': ['bread']}\n",
    "result = {}\n",
    "for _, values in data.items():\n",
    "    for value in values:\n",
    "        result[value] = result.setdefault(value, 0) + 1\n",
    "print(result)"
   ]
  },
  {
   "cell_type": "code",
   "execution_count": 31,
   "id": "238b71e0",
   "metadata": {},
   "outputs": [
    {
     "name": "stdout",
     "output_type": "stream",
     "text": [
      "[{'name': 'sarah', 'children': [{'id': 3, 'size': 2}, {'id': 4, 'size': 2}, {'id': 5, 'size': 3}, {'id': 6, 'size': 3}]}, {'name': 'bob', 'children': [{'id': 1, 'size': 2}, {'id': 2, 'size': 3}]}, {'name': 'jack', 'children': [{'id': 7, 'size': 5}]}]\n"
     ]
    }
   ],
   "source": [
    "#given a very large list match and append dictionary based on key\n",
    "tsv_data = [\n",
    "    {'id':1,'name':'bob','size':2},\n",
    "    {'id':2,'name':'bob','size':3},\n",
    "    {'id':3,'name':'sarah','size':2},\n",
    "    {'id':4,'name':'sarah','size':2},\n",
    "    {'id':5,'name':'sarah','size':3},\n",
    "    {'id':6,'name':'sarah','size':3},\n",
    "    {'id':7,'name':'jack','size':5}\n",
    "]\n",
    "names={\"bob\",\"sarah\",\"jack\"}\n",
    "expected_keys = ('id', 'size')\n",
    "result = []\n",
    "for name in names:\n",
    "    result.append({'name': name,\n",
    "                   'children': [ {k: v for k, v in d.items() if k in expected_keys}\n",
    "                                     for d in tsv_data if d.get('name') == name ]})\n",
    "print(result)"
   ]
  },
  {
   "cell_type": "code",
   "execution_count": 32,
   "id": "af1156be",
   "metadata": {},
   "outputs": [
    {
     "name": "stdout",
     "output_type": "stream",
     "text": [
      "                             a                              b                              c\n",
      "                    aaaaaaaaaa                              b                              c\n",
      "                             a                     bbbbbbbbbb                              c\n"
     ]
    }
   ],
   "source": [
    "#create a nice column list in python\n",
    "table_data = [\n",
    "    ['a', 'b', 'c'],\n",
    "    ['aaaaaaaaaa', 'b', 'c'], \n",
    "    ['a', 'bbbbbbbbbb', 'c']]\n",
    "for row in table_data:\n",
    "    print(\"{: >30} {: >30} {: >30}\".format(*row))"
   ]
  },
  {
   "cell_type": "code",
   "execution_count": 18,
   "id": "b9114024",
   "metadata": {},
   "outputs": [
    {
     "name": "stdout",
     "output_type": "stream",
     "text": [
      "{'apple': 'a ripe fruit', 'lion': 'a ferocious animal'}\n"
     ]
    },
    {
     "data": {
      "text/plain": [
       "'a ripe fruit'"
      ]
     },
     "execution_count": 18,
     "metadata": {},
     "output_type": "execute_result"
    }
   ],
   "source": [
    "fruits={'apple': 'a ripe fruit','lion':'a ferocious animal'}\n",
    "print(fruits)\n",
    "fruits['apple']"
   ]
  },
  {
   "cell_type": "code",
   "execution_count": 21,
   "id": "cd73a094",
   "metadata": {},
   "outputs": [
    {
     "name": "stdout",
     "output_type": "stream",
     "text": [
      "{'Math': 93, 'Physics': 67, 'Chemistry': 75}\n"
     ]
    }
   ],
   "source": [
    "marks_dictionary={'Math':93,'Physics':67,'Chemistry':75}\n",
    "marks_dictionary['Math']\n",
    "len(marks_dictionary)\n",
    "print(marks_dictionary)"
   ]
  },
  {
   "cell_type": "code",
   "execution_count": 47,
   "id": "840602cd",
   "metadata": {},
   "outputs": [
    {
     "name": "stdout",
     "output_type": "stream",
     "text": [
      "Swaroop's address is swaroop@swaroopch.com\n",
      "\n",
      "There are 3 contacts in the address-book\n",
      "\n",
      "Contact Swaroop at swaroop@swaroopch.com\n",
      "Contact Larry at larry@wall.org\n",
      "Contact Matsumoto at matz@ruby-lang.org\n",
      "\n",
      "Guido's address is guido@python.org\n"
     ]
    }
   ],
   "source": [
    "ab = {\n",
    "'Swaroop': 'swaroop@swaroopch.com',\n",
    "'Larry': 'larry@wall.org',\n",
    "'Matsumoto': 'matz@ruby-lang.org',\n",
    "'Spammer': 'spammer@hotmail.com'\n",
    "}\n",
    "print(\"Swaroop's address is\", ab['Swaroop'])\n",
    "# Deleting a key-value pair\n",
    "del ab['Spammer']\n",
    "print('\\nThere are {} contacts in the address-book\\n'.format(len(ab)))\n",
    "for name, address in ab.items():\n",
    "    print('Contact {} at {}'.format(name, address))\n",
    "# Adding a key-value pair\n",
    "ab['Guido'] = 'guido@python.org'\n",
    "if 'Guido' in ab:\n",
    "    print(\"\\nGuido's address is\", ab['Guido'])\n"
   ]
  },
  {
   "cell_type": "code",
   "execution_count": null,
   "id": "d1869a5f",
   "metadata": {},
   "outputs": [],
   "source": []
  }
 ],
 "metadata": {
  "kernelspec": {
   "display_name": "Python 3 (ipykernel)",
   "language": "python",
   "name": "python3"
  },
  "language_info": {
   "codemirror_mode": {
    "name": "ipython",
    "version": 3
   },
   "file_extension": ".py",
   "mimetype": "text/x-python",
   "name": "python",
   "nbconvert_exporter": "python",
   "pygments_lexer": "ipython3",
   "version": "3.9.12"
  }
 },
 "nbformat": 4,
 "nbformat_minor": 5
}
