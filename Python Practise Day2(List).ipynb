{
 "cells": [
  {
   "cell_type": "markdown",
   "id": "c0e177ca",
   "metadata": {},
   "source": [
    "# List"
   ]
  },
  {
   "cell_type": "raw",
   "id": "ea2efea6",
   "metadata": {},
   "source": [
    "A list is a data structure that holds an ordered collection of items i.e. you can store a sequence of items in a list. This is easy to\n",
    "imagine if you can think of a shopping list where you have a list of items to buy, except that you probably have each item on a\n",
    "separate line in your shopping list whereas in Python you put commas in between them.\n",
    "The list of items should be enclosed in square brackets so that Python understands that you are specifying a list. Once you have\n",
    "created a list, you can add, remove or search for items in the list. Since we can add and remove items, we say that a list is a\n",
    "mutable data type i.e. this type can be altered.\n"
   ]
  },
  {
   "cell_type": "code",
   "execution_count": 2,
   "id": "75d22a02",
   "metadata": {},
   "outputs": [
    {
     "name": "stdout",
     "output_type": "stream",
     "text": [
      "Full List: \n",
      "[1, 2, 23, 4, 55]\n"
     ]
    }
   ],
   "source": [
    "# Creating a List\n",
    "List = [1,2,23,4,55]\n",
    "print(\"Full List: \")\n",
    "print(List)"
   ]
  },
  {
   "cell_type": "code",
   "execution_count": 3,
   "id": "33b5b2b9",
   "metadata": {},
   "outputs": [
    {
     "name": "stdout",
     "output_type": "stream",
     "text": [
      "Blank List: \n",
      "[]\n"
     ]
    }
   ],
   "source": [
    "# Creating a List\n",
    "List = []\n",
    "print(\"Blank List: \")\n",
    "print(List)"
   ]
  },
  {
   "cell_type": "code",
   "execution_count": 7,
   "id": "10f1f43b",
   "metadata": {},
   "outputs": [
    {
     "name": "stdout",
     "output_type": "stream",
     "text": [
      "\n",
      "List Items: \n",
      "There\n",
      "Employees\n"
     ]
    }
   ],
   "source": [
    "# Creating a List of strings and accessing\n",
    "# using index\n",
    "List = [\"There\", \"are\", \"7Lacs\", \"Employees\", \"in\", \"Accenture\"]\n",
    "print(\"\\nList Items: \")\n",
    "print(List[0])\n",
    "print(List[-3])"
   ]
  },
  {
   "cell_type": "code",
   "execution_count": 10,
   "id": "4721bdb5",
   "metadata": {},
   "outputs": [
    {
     "name": "stdout",
     "output_type": "stream",
     "text": [
      "\n",
      "List with the use of Numbers: \n",
      "[1, 2, 4, 4, 3, 3, 3, 6, 5]\n",
      "\n",
      "set with the use of Numbers: \n",
      "{1, 2, 3, 4, 5, 6}\n"
     ]
    }
   ],
   "source": [
    "# (Having duplicate values)\n",
    "#List accepts dublicate values and sets don't accept any duplicate values\n",
    "# (Having duplicate values)\n",
    "List = [1, 2, 4, 4, 3, 3, 3, 6, 5]\n",
    "print(\"\\nList with the use of Numbers: \")\n",
    "print(List)\n",
    " \n",
    "set1 = {1, 2, 4, 4, 3, 3, 3, 6, 5}\n",
    "print(\"\\nset with the use of Numbers: \")\n",
    "print(set1)\n",
    " "
   ]
  },
  {
   "cell_type": "code",
   "execution_count": 11,
   "id": "9c4f0739",
   "metadata": {},
   "outputs": [
    {
     "name": "stdout",
     "output_type": "stream",
     "text": [
      "\n",
      "List with the use of Mixed Values: \n",
      "[1, 2, 3, 4, 'Legends', 4, 'Are', 6, 'Coders']\n"
     ]
    }
   ],
   "source": [
    "# Creating a List with\n",
    "# mixed type of values\n",
    "# (Having numbers and strings)\n",
    "List = [1, 2, 3, 4, 'Legends', 4, 'Are', 6, 'Coders']\n",
    "print(\"\\nList with the use of Mixed Values: \")\n",
    "print(List)"
   ]
  },
  {
   "cell_type": "code",
   "execution_count": 12,
   "id": "55d42e8a",
   "metadata": {},
   "outputs": [
    {
     "name": "stdout",
     "output_type": "stream",
     "text": [
      "Accessing a element from a Multi-Dimensional list\n",
      "Are\n",
      "Good\n"
     ]
    }
   ],
   "source": [
    "# Creating a Multi-Dimensional List\n",
    "# (By Nesting a list inside a List)\n",
    "List = [['Geeks', 'Are'], ['Good','Coder']]\n",
    " \n",
    "# accessing an element from the\n",
    "# Multi-Dimensional List using\n",
    "# index number\n",
    "print(\"Accessing a element from a Multi-Dimensional list\")\n",
    "print(List[0][1])\n",
    "print(List[1][0])"
   ]
  },
  {
   "cell_type": "code",
   "execution_count": 13,
   "id": "0d754aa1",
   "metadata": {},
   "outputs": [
    {
     "name": "stdout",
     "output_type": "stream",
     "text": [
      "0\n",
      "3\n"
     ]
    }
   ],
   "source": [
    "# Creating a List\n",
    "List1 = []\n",
    "print(len(List1))\n",
    " \n",
    "# Creating a List of numbers\n",
    "List2 = [10, 20, 14]\n",
    "print(len(List2))"
   ]
  },
  {
   "cell_type": "code",
   "execution_count": 14,
   "id": "8adf856a",
   "metadata": {},
   "outputs": [
    {
     "name": "stdout",
     "output_type": "stream",
     "text": [
      "Enter elements (Space-Separated): We are data Scientist\n",
      "The list is: ['We', 'are', 'data', 'Scientist']\n"
     ]
    }
   ],
   "source": [
    "# Python program to take space\n",
    "# separated input as a string\n",
    "# split and store it to a list\n",
    "# and print the string list\n",
    " \n",
    "# input the list as string\n",
    "string = input(\"Enter elements (Space-Separated): \")\n",
    " \n",
    "# split the strings and store it to a list\n",
    "lst = string.split() \n",
    "print('The list is:', lst)   # printing the list"
   ]
  },
  {
   "cell_type": "code",
   "execution_count": 1,
   "id": "8380b7da",
   "metadata": {},
   "outputs": [
    {
     "name": "stdout",
     "output_type": "stream",
     "text": [
      "[[1, 2, 3], 'Vijay', []]\n"
     ]
    }
   ],
   "source": [
    "my_list=[[1,2,3],'Vijay',[]]\n",
    "print(my_list)"
   ]
  },
  {
   "cell_type": "code",
   "execution_count": 3,
   "id": "020c570e",
   "metadata": {},
   "outputs": [
    {
     "name": "stdout",
     "output_type": "stream",
     "text": [
      "[[3, 4, 5], [True, False], []]\n"
     ]
    },
    {
     "data": {
      "text/plain": [
       "3"
      ]
     },
     "execution_count": 3,
     "metadata": {},
     "output_type": "execute_result"
    }
   ],
   "source": [
    "my_list=[[3,4,5],[True,False],[]]\n",
    "print(my_list)\n",
    "len(my_list)"
   ]
  },
  {
   "cell_type": "code",
   "execution_count": 14,
   "id": "531444a3",
   "metadata": {},
   "outputs": [
    {
     "data": {
      "text/plain": [
       "False"
      ]
     },
     "execution_count": 14,
     "metadata": {},
     "output_type": "execute_result"
    }
   ],
   "source": [
    "[1,2,3,4]==[1,3,2,4]"
   ]
  },
  {
   "cell_type": "code",
   "execution_count": 16,
   "id": "081f41d8",
   "metadata": {},
   "outputs": [
    {
     "name": "stdout",
     "output_type": "stream",
     "text": [
      "Enter the size of list : 9\n",
      "Enter the integerelements:99 999 9999 99999 999999 9999999 9999999 99999999 99999999999 99999999999 9999999999999999\n",
      "The list is: [99, 999, 9999, 99999, 999999, 9999999, 9999999, 99999999, 99999999999]\n"
     ]
    }
   ],
   "source": [
    "# input size of the list\n",
    "n = int(input(\"Enter the size of list : \"))\n",
    "# store integers in a list using map,\n",
    "# split and strip functions\n",
    "lst = list(map(int, input(\"Enter the integer\\\n",
    "elements:\").strip().split()))[:n]\n",
    " \n",
    "# printing the list\n",
    "print('The list is:', lst)  "
   ]
  },
  {
   "cell_type": "markdown",
   "id": "7f7d0756",
   "metadata": {},
   "source": [
    "### Method 1: Using append() method"
   ]
  },
  {
   "cell_type": "code",
   "execution_count": 21,
   "id": "46ac969f",
   "metadata": {},
   "outputs": [
    {
     "name": "stdout",
     "output_type": "stream",
     "text": [
      "Initial blank List: \n",
      "[]\n",
      "\n",
      "List after Addition of Three elements: \n",
      "[1122, 222444, 444446666]\n",
      "\n",
      "List after Addition of elements from 1-3: \n",
      "[1122, 222444, 444446666, 1, 2, 3, 4, 5, 6, 7, 8, 9, 10, 11, 12, 13, 14, 15, 16, 17, 18, 19, 20, 21, 22, 23, 24, 25, 26, 27, 28, 29, 30, 31, 32, 33, 34, 35, 36, 37, 38, 39, 40, 41, 42, 43, 44, 45, 46, 47, 48, 49, 50, 51, 52, 53, 54, 55, 56, 57, 58, 59, 60, 61, 62, 63, 64, 65, 66, 67, 68, 69, 70, 71, 72, 73, 74, 75, 76, 77, 78, 79, 80, 81, 82, 83, 84, 85, 86, 87, 88, 89, 90, 91, 92, 93, 94, 95, 96, 97, 98]\n",
      "\n",
      "List after Addition of a Tuple: \n",
      "[1122, 222444, 444446666, 1, 2, 3, 4, 5, 6, 7, 8, 9, 10, 11, 12, 13, 14, 15, 16, 17, 18, 19, 20, 21, 22, 23, 24, 25, 26, 27, 28, 29, 30, 31, 32, 33, 34, 35, 36, 37, 38, 39, 40, 41, 42, 43, 44, 45, 46, 47, 48, 49, 50, 51, 52, 53, 54, 55, 56, 57, 58, 59, 60, 61, 62, 63, 64, 65, 66, 67, 68, 69, 70, 71, 72, 73, 74, 75, 76, 77, 78, 79, 80, 81, 82, 83, 84, 85, 86, 87, 88, 89, 90, 91, 92, 93, 94, 95, 96, 97, 98, (5, 6)]\n",
      "\n",
      "List after Addition of a List: \n",
      "[1122, 222444, 444446666, 1, 2, 3, 4, 5, 6, 7, 8, 9, 10, 11, 12, 13, 14, 15, 16, 17, 18, 19, 20, 21, 22, 23, 24, 25, 26, 27, 28, 29, 30, 31, 32, 33, 34, 35, 36, 37, 38, 39, 40, 41, 42, 43, 44, 45, 46, 47, 48, 49, 50, 51, 52, 53, 54, 55, 56, 57, 58, 59, 60, 61, 62, 63, 64, 65, 66, 67, 68, 69, 70, 71, 72, 73, 74, 75, 76, 77, 78, 79, 80, 81, 82, 83, 84, 85, 86, 87, 88, 89, 90, 91, 92, 93, 94, 95, 96, 97, 98, (5, 6), ['For', 'Geeks']]\n"
     ]
    }
   ],
   "source": [
    "# Python program to demonstrate\n",
    "# Addition of elements in a List\n",
    " \n",
    "# Creating a List\n",
    "List = []\n",
    "print(\"Initial blank List: \")\n",
    "print(List)\n",
    " \n",
    "# Addition of Elements\n",
    "# in the List\n",
    "List.append(1122)\n",
    "List.append(222444)\n",
    "List.append(444446666)\n",
    "print(\"\\nList after Addition of Three elements: \")\n",
    "print(List)\n",
    " \n",
    "# Adding elements to the List\n",
    "# using Iterator\n",
    "for i in range(1, 99):\n",
    "    List.append(i)\n",
    "print(\"\\nList after Addition of elements from 1-3: \")\n",
    "print(List)\n",
    "\n",
    "# Adding Tuples to the List\n",
    "List.append((5,6))\n",
    "print(\"\\nList after Addition of a Tuple: \")\n",
    "print(List)\n",
    " \n",
    "# Addition of List to a List\n",
    "List2 = ['For', 'Geeks']\n",
    "List.append(List2)\n",
    "print(\"\\nList after Addition of a List: \")\n",
    "print(List)"
   ]
  },
  {
   "cell_type": "markdown",
   "id": "e0ccc22c",
   "metadata": {},
   "source": [
    "### Method 2: Using insert() method"
   ]
  },
  {
   "cell_type": "code",
   "execution_count": 22,
   "id": "67591dbe",
   "metadata": {},
   "outputs": [
    {
     "name": "stdout",
     "output_type": "stream",
     "text": [
      "Initial List: \n",
      "[1, 2, 3, 4]\n",
      "\n",
      "List after performing Insert Operation: \n",
      "['Geeks', 1, 2, 3, 12, 4]\n"
     ]
    }
   ],
   "source": [
    "# Python program to demonstrate\n",
    "# Addition of elements in a List\n",
    "  \n",
    "# Creating a List\n",
    "List = [1,2,3,4]\n",
    "print(\"Initial List: \")\n",
    "print(List)\n",
    " \n",
    "# Addition of Element at\n",
    "# specific Position\n",
    "# (using Insert Method)\n",
    "List.insert(3, 12)\n",
    "List.insert(0, 'Geeks')\n",
    "print(\"\\nList after performing Insert Operation: \")\n",
    "print(List)"
   ]
  },
  {
   "cell_type": "markdown",
   "id": "16bb4ec7",
   "metadata": {},
   "source": [
    "## Method 3: Using extend() method"
   ]
  },
  {
   "cell_type": "code",
   "execution_count": 23,
   "id": "d13e5437",
   "metadata": {},
   "outputs": [
    {
     "name": "stdout",
     "output_type": "stream",
     "text": [
      "Initial List: \n",
      "[1, 2, 3, 4, 5, 6, 7, 8, 9]\n",
      "\n",
      "List after performing Extend Operation: \n",
      "[1, 2, 3, 4, 5, 6, 7, 8, 9, 8, 'God', 'Always', 'prevails']\n"
     ]
    }
   ],
   "source": [
    "# Python program to demonstrate\n",
    "# Addition of elements in a List\n",
    " \n",
    "# Creating a List\n",
    "List = [1, 2, 3, 4,5,6,7,8,9]\n",
    "print(\"Initial List: \")\n",
    "print(List)\n",
    " \n",
    "# Addition of multiple elements\n",
    "# to the List at the end\n",
    "# (using Extend Method)\n",
    "List.extend([8, 'God', 'Always', 'prevails'])\n",
    "print(\"\\nList after performing Extend Operation: \")\n",
    "print(List)"
   ]
  },
  {
   "cell_type": "markdown",
   "id": "b571efca",
   "metadata": {},
   "source": [
    "### Reversing a List"
   ]
  },
  {
   "cell_type": "code",
   "execution_count": 24,
   "id": "234012c3",
   "metadata": {},
   "outputs": [
    {
     "name": "stdout",
     "output_type": "stream",
     "text": [
      "['Required', 'is', 'Python', 'in', 'Coding', 5, 4, 3, 2, 1]\n"
     ]
    }
   ],
   "source": [
    "# Reversing a list\n",
    "mylist = [1, 2, 3, 4, 5, 'Coding', 'in', 'Python', 'is', 'Required']\n",
    "mylist.reverse()\n",
    "print(mylist)"
   ]
  },
  {
   "cell_type": "code",
   "execution_count": 31,
   "id": "78d4b0a8",
   "metadata": {},
   "outputs": [
    {
     "name": "stdout",
     "output_type": "stream",
     "text": [
      "[0, 28, 4, 18, 17, 26, 28, 3, 22, 19]\n"
     ]
    }
   ],
   "source": [
    "hacker_list=[19,22,3,28,26,17,18,4,28,0]\n",
    "hacker_list.reverse()\n",
    "print(hacker_list)"
   ]
  },
  {
   "cell_type": "code",
   "execution_count": 35,
   "id": "5d3ff691",
   "metadata": {},
   "outputs": [
    {
     "name": "stdout",
     "output_type": "stream",
     "text": [
      "[0, 28, 4, 18, 17, 26, 28, 3, 22, 19]\n"
     ]
    }
   ],
   "source": [
    "hacker_new_list=[19,22,3,28,26,17,18,4,28,0]\n",
    "var=hacker_new_list[::-1]\n",
    "print(var)\n"
   ]
  },
  {
   "cell_type": "markdown",
   "id": "89dfa84a",
   "metadata": {},
   "source": [
    "### Method 1: Using remove() method"
   ]
  },
  {
   "cell_type": "code",
   "execution_count": 25,
   "id": "52873304",
   "metadata": {},
   "outputs": [
    {
     "name": "stdout",
     "output_type": "stream",
     "text": [
      "Initial List: \n",
      "[1, 2, 3, 4, 5, 6, 7, 8, 9, 10, 11, 12]\n",
      "\n",
      "List after Removal of two elements: \n",
      "[1, 2, 3, 4, 7, 8, 9, 10, 11, 12]\n"
     ]
    }
   ],
   "source": [
    "# Python program to demonstrate\n",
    "# Removal of elements in a List\n",
    " \n",
    "# Creating a List\n",
    "List = [1, 2, 3, 4, 5, 6,\n",
    "        7, 8, 9, 10, 11, 12]\n",
    "print(\"Initial List: \")\n",
    "print(List)\n",
    " \n",
    "# Removing elements from List\n",
    "# using Remove() method\n",
    "List.remove(5)\n",
    "List.remove(6)\n",
    "print(\"\\nList after Removal of two elements: \")\n",
    "print(List)"
   ]
  },
  {
   "cell_type": "markdown",
   "id": "c843d977",
   "metadata": {},
   "source": [
    "### Method 1: Using pop() method"
   ]
  },
  {
   "cell_type": "code",
   "execution_count": 30,
   "id": "3d75d5d7",
   "metadata": {},
   "outputs": [
    {
     "name": "stdout",
     "output_type": "stream",
     "text": [
      "Initial List: \n",
      "[1, 2, 3, 4, 5, 6, 7, 8, 9, 10, 11, 12]\n",
      "\n",
      "List after Removal of two elements: \n",
      "[1, 2, 3, 4, 5, 7, 9, 10, 11]\n"
     ]
    }
   ],
   "source": [
    "# Python program to demonstrate\n",
    "# Removal of elements in a List\n",
    "# Pop is based on a index\n",
    "# Creating a List\n",
    "List = [1, 2, 3, 4, 5, 6, 7, 8, 9, 10, 11, 12]\n",
    "print(\"Initial List: \")\n",
    "print(List)\n",
    " \n",
    "# Removing elements from List\n",
    "# using Remove() method\n",
    "List.pop(5)\n",
    "List.pop(6)\n",
    "List.pop()\n",
    "print(\"\\nList after Removal of two elements: \")\n",
    "print(List)"
   ]
  },
  {
   "cell_type": "markdown",
   "id": "b3076a7f",
   "metadata": {},
   "source": [
    "## List Comprehension\n",
    "### Syntax:\n",
    "### newList = [ expression(element) for element in oldList if condition ]"
   ]
  },
  {
   "cell_type": "code",
   "execution_count": 36,
   "id": "319f9e2b",
   "metadata": {},
   "outputs": [
    {
     "name": "stdout",
     "output_type": "stream",
     "text": [
      "[1, 9, 25, 49, 81]\n"
     ]
    }
   ],
   "source": [
    "# Python program to demonstrate list\n",
    "# comprehension in Python\n",
    " \n",
    "# below list contains square of all\n",
    "# odd numbers from range 1 to 10\n",
    "odd_square = [x ** 2 for x in range(1, 11) if x % 2 == 1]\n",
    "print(odd_square)"
   ]
  },
  {
   "cell_type": "code",
   "execution_count": 38,
   "id": "289fcd62",
   "metadata": {},
   "outputs": [
    {
     "name": "stdout",
     "output_type": "stream",
     "text": [
      "[4, 16, 36, 64, 100]\n"
     ]
    }
   ],
   "source": [
    "# Python program to demonstrate list\n",
    "# comprehension in Python\n",
    " \n",
    "# below list contains square of all\n",
    "# even numbers from range 1 to 10\n",
    "even_square = [x ** 2 for x in range(1, 11) if x % 2 == 0]\n",
    "print(even_square)"
   ]
  },
  {
   "cell_type": "code",
   "execution_count": 44,
   "id": "d90c1f68",
   "metadata": {},
   "outputs": [
    {
     "name": "stdout",
     "output_type": "stream",
     "text": [
      "[1, 27, 125, 343, 729, 1331, 2197, 3375, 4913, 6859]\n"
     ]
    }
   ],
   "source": [
    "# Python program to demonstrate list\n",
    "# comprehension in Python\n",
    " \n",
    "# below list contains cube of all\n",
    "# odd numbers from range 1 to 20\n",
    "odd_square = [x ** 3 for x in range(1, 21) if x % 2 == 1]\n",
    "print(odd_square)"
   ]
  },
  {
   "cell_type": "code",
   "execution_count": 52,
   "id": "86088673",
   "metadata": {},
   "outputs": [
    {
     "name": "stdout",
     "output_type": "stream",
     "text": [
      "[[0, 0, 0], [0, 0, 1], [0, 0, 2], [0, 1, 0], [0, 1, 1], [1, 0, 0], [1, 0, 1], [1, 1, 0], [1, 1, 2]]\n"
     ]
    }
   ],
   "source": [
    "# You are given three integers x,y and z  representing the dimensions of a cuboid along with an integer n. Print a list of all possible coordinates given by (x,y,z) on a 3D grid where the sum of (x+y+z) is not equal to n. Here,0≤i≤x,0≤j≤y,0≤k≤z. Please use list comprehensions rather than multiple loops, as a learning exercise.\n",
    "\n",
    "\n",
    "\n",
    "if __name__ == '__main__':\n",
    "    x = 1\n",
    "    y = 1\n",
    "    z = 2\n",
    "    n = 3\n",
    "    \n",
    "\n",
    "zyp=  [[K,M,N] for K in range(x+1) for M in range(y+1) for N in range(z+1) if K+M+N!=n]\n",
    "print(zyp)\n"
   ]
  },
  {
   "cell_type": "code",
   "execution_count": 56,
   "id": "03a11f5e",
   "metadata": {},
   "outputs": [
    {
     "name": "stdout",
     "output_type": "stream",
     "text": [
      "I have 4 items to purchase.\n",
      "These items are: apple mango carrot banana \n",
      "I also have to buy rice.\n",
      "My shopping list is now ['apple', 'mango', 'carrot', 'banana', 'rice']\n",
      "I will sort my list now\n",
      "Sorted shopping list is ['apple', 'banana', 'carrot', 'mango', 'rice']\n",
      "The first item I will buy is apple\n",
      "I bought the apple\n",
      "My shopping list is now ['banana', 'carrot', 'mango', 'rice']\n"
     ]
    }
   ],
   "source": [
    "# This is my shopping list\n",
    "shoplist = ['apple', 'mango', 'carrot', 'banana']\n",
    "print('I have', len(shoplist), 'items to purchase.')\n",
    "print('These items are:', end=' ')\n",
    "for item in shoplist:\n",
    "    print(item, end=' ')\n",
    "print('\\nI also have to buy rice.')\n",
    "shoplist.append('rice')\n",
    "print('My shopping list is now', shoplist)\n",
    "print('I will sort my list now')\n",
    "shoplist.sort()\n",
    "print('Sorted shopping list is', shoplist)\n",
    "print('The first item I will buy is', shoplist[0])\n",
    "olditem = shoplist[0]\n",
    "del shoplist[0]\n",
    "print('I bought the', olditem)\n",
    "print('My shopping list is now', shoplist)\n"
   ]
  },
  {
   "cell_type": "raw",
   "id": "eda25aed",
   "metadata": {},
   "source": [
    "List Methods\n",
    "Function\tDescription\n",
    "Append()\tAdd an element to the end of the list\n",
    "Extend()\tAdd all elements of a list to another list\n",
    "Insert()\tInsert an item at the defined index\n",
    "Remove()\tRemoves an item from the list\n",
    "Clear()\tRemoves all items from the list\n",
    "Index()\tReturns the index of the first matched item\n",
    "Count()\tReturns the count of the number of items passed as an argument\n",
    "Sort()\tSort items in a list in ascending order\n",
    "Reverse()\tReverse the order of items in the list\n",
    "copy()\tReturns a copy of the list"
   ]
  },
  {
   "cell_type": "raw",
   "id": "538e14ff",
   "metadata": {},
   "source": [
    "Built-in functions with List\n",
    "Function\tDescription\n",
    "reduce()\tapply a particular function passed in its argument to all of the list elements stores the intermediate result and only returns the final summation value\n",
    "sum()\tSums up the numbers in the list\n",
    "ord()\tReturns an integer representing the Unicode code point of the given Unicode character\n",
    "cmp()\tThis function returns 1 if the first list is “greater” than the second list\n",
    "max()\treturn maximum element of a given list\n",
    "min()\treturn minimum element of a given list\n",
    "all()\tReturns true if all element is true or if the list is empty\n",
    "any()\treturn true if any element of the list is true. if the list is empty, return false\n",
    "len()\tReturns length of the list or size of the list\n",
    "enumerate()\tReturns enumerate object of the list\n",
    "accumulate()\tapply a particular function passed in its argument to all of the list elements returns a list containing the intermediate results\n",
    "filter()\ttests if each element of a list is true or not\n",
    "map()\treturns a list of the results after applying the given function to each item of a given iterable\n",
    "lambda()\tThis function can have any number of arguments but only one expression, which is evaluated and returned."
   ]
  }
 ],
 "metadata": {
  "kernelspec": {
   "display_name": "Python 3 (ipykernel)",
   "language": "python",
   "name": "python3"
  },
  "language_info": {
   "codemirror_mode": {
    "name": "ipython",
    "version": 3
   },
   "file_extension": ".py",
   "mimetype": "text/x-python",
   "name": "python",
   "nbconvert_exporter": "python",
   "pygments_lexer": "ipython3",
   "version": "3.9.12"
  }
 },
 "nbformat": 4,
 "nbformat_minor": 5
}
